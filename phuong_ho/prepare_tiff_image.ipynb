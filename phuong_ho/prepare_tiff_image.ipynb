{
 "cells": [
  {
   "cell_type": "code",
   "execution_count": 1,
   "id": "7eaf7b3e",
   "metadata": {},
   "outputs": [
    {
     "name": "stderr",
     "output_type": "stream",
     "text": [
      "/opt/anaconda3/envs/momender/lib/python3.12/site-packages/dask/dataframe/__init__.py:31: FutureWarning: The legacy Dask DataFrame implementation is deprecated and will be removed in a future version. Set the configuration option `dataframe.query-planning` to `True` or None to enable the new Dask Dataframe implementation and silence this warning.\n",
      "  warnings.warn(\n",
      "/opt/anaconda3/envs/momender/lib/python3.12/site-packages/anndata/utils.py:434: FutureWarning: Importing read_text from `anndata` is deprecated. Import anndata.io.read_text instead.\n",
      "  warnings.warn(msg, FutureWarning)\n"
     ]
    }
   ],
   "source": [
    "import os\n",
    "import random\n",
    "\n",
    "import anndata as ad\n",
    "import matplotlib.pyplot as plt\n",
    "import numpy as np\n",
    "import pandas as pd\n",
    "import scanpy as sc\n",
    "import squidpy as sq\n",
    "import torch\n",
    "from PIL import Image\n",
    "from sklearn.decomposition import PCA\n",
    "\n",
    "import MENDER\n",
    "from miso import Miso\n",
    "from miso.hist_features import get_features\n",
    "from miso.utils import *"
   ]
  },
  {
   "cell_type": "code",
   "execution_count": 4,
   "id": "6ca57e8a",
   "metadata": {},
   "outputs": [
    {
     "data": {
      "text/plain": [
       "(1978, 2000)"
      ]
     },
     "execution_count": 4,
     "metadata": {},
     "output_type": "execute_result"
    }
   ],
   "source": [
    "image = Image.open(\"data/GSE213688/raw/GSM6592048_M1_tissue_hires_image.png.gz\")\n",
    "image.size"
   ]
  },
  {
   "cell_type": "code",
   "execution_count": 9,
   "id": "5905ae20",
   "metadata": {},
   "outputs": [
    {
     "data": {
      "text/plain": [
       "AnnData object with n_obs × n_vars = 11312 × 17922\n",
       "    obs: 'array_row', 'array_col', 'n_genes_by_counts', 'log1p_n_genes_by_counts', 'total_counts', 'log1p_total_counts', 'sangerID', 'region', 'donor', 'donor_type', 'age', 'gender', 'facility', 'modality', 'kit_10x', 'flushed', 'annotation_final', 'prop_Adip1', 'prop_Adip2', 'prop_B', 'prop_B_plasma', 'prop_CD14+Mo', 'prop_CD16+Mo', 'prop_CD4+T_act', 'prop_CD4+T_naive', 'prop_CD8+T_cytox', 'prop_CD8+T_em', 'prop_CD8+T_te', 'prop_CD8+T_trans', 'prop_DC', 'prop_EC10_CMC-like', 'prop_EC1_cap', 'prop_EC2_cap', 'prop_EC3_cap', 'prop_EC4_immune', 'prop_EC5_art', 'prop_EC6_ven', 'prop_EC7_endocardial', 'prop_EC8_ln', 'prop_FB1', 'prop_FB2', 'prop_FB3', 'prop_FB4_activated', 'prop_FB5', 'prop_FB6', 'prop_ILC', 'prop_LYVE1+IGF1+MP', 'prop_LYVE1+MP_cycling', 'prop_LYVE1+TIMD4+MP', 'prop_MAIT-like', 'prop_Mast', 'prop_MoMP', 'prop_NC1_glial', 'prop_NC2_glial_NGF+', 'prop_NK_CD16hi', 'prop_NK_CD56hi', 'prop_Neut', 'prop_PC2_atria', 'prop_PC3_str', 'prop_SAN_P_cell', 'prop_SMC1_basic', 'prop_SMC2_art', 'prop_aCM1', 'prop_aCM2', 'prop_aCM3', 'prop_aCM4'\n",
       "    var: 'gene_ids', 'feature_types', 'genome'\n",
       "    uns: 'log1p', 'spatial'\n",
       "    obsm: 'MT', 'means_cell_abundance_w_sf', 'prop', 'q05_cell_abundance_w_sf', 'q95_cell_abundance_w_sf', 'spatial', 'stds_cell_abundance_w_sf'"
      ]
     },
     "execution_count": 9,
     "metadata": {},
     "output_type": "execute_result"
    }
   ],
   "source": [
    "adata = sc.read_h5ad(\"data/human_cardiac/visium-FFPE_SAN_lognormalised.h5ad\")\n",
    "adata"
   ]
  },
  {
   "cell_type": "code",
   "execution_count": 15,
   "id": "618be410",
   "metadata": {},
   "outputs": [
    {
     "data": {
      "text/plain": [
       "array([[12846, 11080],\n",
       "       [ 3729, 12795],\n",
       "       [11971,  4199],\n",
       "       ...,\n",
       "       [ 4687, 10158],\n",
       "       [ 6220, 15509],\n",
       "       [ 7329,  2902]], shape=(11312, 2))"
      ]
     },
     "execution_count": 15,
     "metadata": {},
     "output_type": "execute_result"
    }
   ],
   "source": [
    "adata.obsm[\"spatial\"]"
   ]
  },
  {
   "cell_type": "code",
   "execution_count": null,
   "id": "d83b31d4",
   "metadata": {},
   "outputs": [],
   "source": []
  }
 ],
 "metadata": {
  "kernelspec": {
   "display_name": "momender",
   "language": "python",
   "name": "python3"
  },
  "language_info": {
   "codemirror_mode": {
    "name": "ipython",
    "version": 3
   },
   "file_extension": ".py",
   "mimetype": "text/x-python",
   "name": "python",
   "nbconvert_exporter": "python",
   "pygments_lexer": "ipython3",
   "version": "3.12.11"
  }
 },
 "nbformat": 4,
 "nbformat_minor": 5
}
