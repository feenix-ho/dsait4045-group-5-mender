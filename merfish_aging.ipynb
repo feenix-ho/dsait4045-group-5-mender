{
 "cells": [
  {
   "cell_type": "code",
   "execution_count": 1,
   "id": "f10540e3",
   "metadata": {},
   "outputs": [
    {
     "name": "stderr",
     "output_type": "stream",
     "text": [
      "/opt/anaconda3/envs/mender/lib/python3.9/site-packages/requests/__init__.py:86: RequestsDependencyWarning: Unable to find acceptable character detection dependency (chardet or charset_normalizer).\n",
      "  warnings.warn(\n"
     ]
    }
   ],
   "source": [
    "import matplotlib.pyplot as plt\n",
    "import mender\n",
    "import numpy as np\n",
    "import pandas as pd\n",
    "import scanpy as sc\n",
    "from sklearn.metrics import *\n",
    "\n",
    "import pysodb"
   ]
  },
  {
   "cell_type": "code",
   "execution_count": 2,
   "id": "61a0e2b8",
   "metadata": {},
   "outputs": [
    {
     "name": "stdout",
     "output_type": "stream",
     "text": [
      "download experiment[MsBrainAgingSpatialDonor_10_0] in dataset[Allen2022Molecular_aging]\n"
     ]
    },
    {
     "name": "stderr",
     "output_type": "stream",
     "text": [
      "100%|██████████| 53.3M/53.3M [03:32<00:00, 263kB/s] \n"
     ]
    },
    {
     "name": "stdout",
     "output_type": "stream",
     "text": [
      "load experiment[MsBrainAgingSpatialDonor_10_0] in dataset[Allen2022Molecular_aging]\n",
      "download experiment[MsBrainAgingSpatialDonor_10_1] in dataset[Allen2022Molecular_aging]\n"
     ]
    },
    {
     "name": "stderr",
     "output_type": "stream",
     "text": [
      "100%|██████████| 53.0M/53.0M [03:25<00:00, 271kB/s] \n"
     ]
    },
    {
     "name": "stdout",
     "output_type": "stream",
     "text": [
      "load experiment[MsBrainAgingSpatialDonor_10_1] in dataset[Allen2022Molecular_aging]\n",
      "download experiment[MsBrainAgingSpatialDonor_10_2] in dataset[Allen2022Molecular_aging]\n"
     ]
    },
    {
     "name": "stderr",
     "output_type": "stream",
     "text": [
      "100%|██████████| 48.6M/48.6M [03:06<00:00, 273kB/s] \n"
     ]
    },
    {
     "name": "stdout",
     "output_type": "stream",
     "text": [
      "load experiment[MsBrainAgingSpatialDonor_10_2] in dataset[Allen2022Molecular_aging]\n",
      "download experiment[MsBrainAgingSpatialDonor_11_0] in dataset[Allen2022Molecular_aging]\n"
     ]
    },
    {
     "name": "stderr",
     "output_type": "stream",
     "text": [
      "100%|██████████| 41.7M/41.7M [00:40<00:00, 1.08MB/s]\n"
     ]
    },
    {
     "name": "stdout",
     "output_type": "stream",
     "text": [
      "load experiment[MsBrainAgingSpatialDonor_11_0] in dataset[Allen2022Molecular_aging]\n",
      "download experiment[MsBrainAgingSpatialDonor_11_1] in dataset[Allen2022Molecular_aging]\n"
     ]
    },
    {
     "name": "stderr",
     "output_type": "stream",
     "text": [
      "100%|██████████| 77.9M/77.9M [05:01<00:00, 271kB/s] \n"
     ]
    },
    {
     "name": "stdout",
     "output_type": "stream",
     "text": [
      "load experiment[MsBrainAgingSpatialDonor_11_1] in dataset[Allen2022Molecular_aging]\n",
      "download experiment[MsBrainAgingSpatialDonor_11_2] in dataset[Allen2022Molecular_aging]\n"
     ]
    },
    {
     "name": "stderr",
     "output_type": "stream",
     "text": [
      "100%|██████████| 40.0M/40.0M [02:39<00:00, 262kB/s] \n"
     ]
    },
    {
     "name": "stdout",
     "output_type": "stream",
     "text": [
      "load experiment[MsBrainAgingSpatialDonor_11_2] in dataset[Allen2022Molecular_aging]\n",
      "download experiment[MsBrainAgingSpatialDonor_12_0] in dataset[Allen2022Molecular_aging]\n"
     ]
    },
    {
     "name": "stderr",
     "output_type": "stream",
     "text": [
      "100%|██████████| 95.8M/95.8M [07:59<00:00, 209kB/s] \n"
     ]
    },
    {
     "name": "stdout",
     "output_type": "stream",
     "text": [
      "load experiment[MsBrainAgingSpatialDonor_12_0] in dataset[Allen2022Molecular_aging]\n",
      "download experiment[MsBrainAgingSpatialDonor_12_1] in dataset[Allen2022Molecular_aging]\n"
     ]
    },
    {
     "name": "stderr",
     "output_type": "stream",
     "text": [
      "100%|██████████| 86.2M/86.2M [02:30<00:00, 602kB/s] \n"
     ]
    },
    {
     "name": "stdout",
     "output_type": "stream",
     "text": [
      "load experiment[MsBrainAgingSpatialDonor_12_1] in dataset[Allen2022Molecular_aging]\n",
      "download experiment[MsBrainAgingSpatialDonor_1_0] in dataset[Allen2022Molecular_aging]\n"
     ]
    },
    {
     "name": "stderr",
     "output_type": "stream",
     "text": [
      "100%|██████████| 115M/115M [10:49<00:00, 185kB/s]    \n"
     ]
    },
    {
     "name": "stdout",
     "output_type": "stream",
     "text": [
      "load experiment[MsBrainAgingSpatialDonor_1_0] in dataset[Allen2022Molecular_aging]\n",
      "download experiment[MsBrainAgingSpatialDonor_2_0] in dataset[Allen2022Molecular_aging]\n"
     ]
    },
    {
     "name": "stderr",
     "output_type": "stream",
     "text": [
      "100%|██████████| 85.9M/85.9M [07:12<00:00, 208kB/s] \n"
     ]
    },
    {
     "name": "stdout",
     "output_type": "stream",
     "text": [
      "load experiment[MsBrainAgingSpatialDonor_2_0] in dataset[Allen2022Molecular_aging]\n",
      "download experiment[MsBrainAgingSpatialDonor_2_1] in dataset[Allen2022Molecular_aging]\n"
     ]
    },
    {
     "name": "stderr",
     "output_type": "stream",
     "text": [
      "100%|██████████| 135M/135M [12:23<00:00, 190kB/s]  \n"
     ]
    },
    {
     "name": "stdout",
     "output_type": "stream",
     "text": [
      "load experiment[MsBrainAgingSpatialDonor_2_1] in dataset[Allen2022Molecular_aging]\n",
      "download experiment[MsBrainAgingSpatialDonor_3_0] in dataset[Allen2022Molecular_aging]\n"
     ]
    },
    {
     "name": "stderr",
     "output_type": "stream",
     "text": [
      "100%|██████████| 107M/107M [09:48<00:00, 190kB/s]  \n"
     ]
    },
    {
     "name": "stdout",
     "output_type": "stream",
     "text": [
      "load experiment[MsBrainAgingSpatialDonor_3_0] in dataset[Allen2022Molecular_aging]\n",
      "download experiment[MsBrainAgingSpatialDonor_3_1] in dataset[Allen2022Molecular_aging]\n"
     ]
    },
    {
     "name": "stderr",
     "output_type": "stream",
     "text": [
      "100%|██████████| 86.8M/86.8M [04:02<00:00, 376kB/s] \n"
     ]
    },
    {
     "name": "stdout",
     "output_type": "stream",
     "text": [
      "load experiment[MsBrainAgingSpatialDonor_3_1] in dataset[Allen2022Molecular_aging]\n",
      "download experiment[MsBrainAgingSpatialDonor_4_0] in dataset[Allen2022Molecular_aging]\n"
     ]
    },
    {
     "name": "stderr",
     "output_type": "stream",
     "text": [
      "100%|██████████| 52.7M/52.7M [04:46<00:00, 193kB/s] \n"
     ]
    },
    {
     "name": "stdout",
     "output_type": "stream",
     "text": [
      "load experiment[MsBrainAgingSpatialDonor_4_0] in dataset[Allen2022Molecular_aging]\n",
      "download experiment[MsBrainAgingSpatialDonor_4_1] in dataset[Allen2022Molecular_aging]\n"
     ]
    },
    {
     "name": "stderr",
     "output_type": "stream",
     "text": [
      "100%|██████████| 60.8M/60.8M [03:05<00:00, 343kB/s] \n"
     ]
    },
    {
     "name": "stdout",
     "output_type": "stream",
     "text": [
      "load experiment[MsBrainAgingSpatialDonor_4_1] in dataset[Allen2022Molecular_aging]\n",
      "download experiment[MsBrainAgingSpatialDonor_4_2] in dataset[Allen2022Molecular_aging]\n"
     ]
    },
    {
     "name": "stderr",
     "output_type": "stream",
     "text": [
      "100%|██████████| 59.9M/59.9M [04:50<00:00, 216kB/s] \n"
     ]
    },
    {
     "name": "stdout",
     "output_type": "stream",
     "text": [
      "load experiment[MsBrainAgingSpatialDonor_4_2] in dataset[Allen2022Molecular_aging]\n",
      "download experiment[MsBrainAgingSpatialDonor_5_0] in dataset[Allen2022Molecular_aging]\n"
     ]
    },
    {
     "name": "stderr",
     "output_type": "stream",
     "text": [
      "100%|██████████| 59.1M/59.1M [03:20<00:00, 309kB/s] \n"
     ]
    },
    {
     "name": "stdout",
     "output_type": "stream",
     "text": [
      "load experiment[MsBrainAgingSpatialDonor_5_0] in dataset[Allen2022Molecular_aging]\n",
      "download experiment[MsBrainAgingSpatialDonor_5_1] in dataset[Allen2022Molecular_aging]\n"
     ]
    },
    {
     "name": "stderr",
     "output_type": "stream",
     "text": [
      "100%|██████████| 53.1M/53.1M [01:34<00:00, 591kB/s] \n"
     ]
    },
    {
     "name": "stdout",
     "output_type": "stream",
     "text": [
      "load experiment[MsBrainAgingSpatialDonor_5_1] in dataset[Allen2022Molecular_aging]\n",
      "download experiment[MsBrainAgingSpatialDonor_5_2] in dataset[Allen2022Molecular_aging]\n"
     ]
    },
    {
     "name": "stderr",
     "output_type": "stream",
     "text": [
      "100%|██████████| 49.5M/49.5M [03:12<00:00, 270kB/s] \n"
     ]
    },
    {
     "name": "stdout",
     "output_type": "stream",
     "text": [
      "load experiment[MsBrainAgingSpatialDonor_5_2] in dataset[Allen2022Molecular_aging]\n",
      "download experiment[MsBrainAgingSpatialDonor_6_0] in dataset[Allen2022Molecular_aging]\n"
     ]
    },
    {
     "name": "stderr",
     "output_type": "stream",
     "text": [
      "100%|██████████| 52.1M/52.1M [03:59<00:00, 228kB/s] \n"
     ]
    },
    {
     "name": "stdout",
     "output_type": "stream",
     "text": [
      "load experiment[MsBrainAgingSpatialDonor_6_0] in dataset[Allen2022Molecular_aging]\n",
      "download experiment[MsBrainAgingSpatialDonor_6_1] in dataset[Allen2022Molecular_aging]\n"
     ]
    },
    {
     "name": "stderr",
     "output_type": "stream",
     "text": [
      "100%|██████████| 45.0M/45.0M [02:11<00:00, 359kB/s] \n"
     ]
    },
    {
     "name": "stdout",
     "output_type": "stream",
     "text": [
      "load experiment[MsBrainAgingSpatialDonor_6_1] in dataset[Allen2022Molecular_aging]\n",
      "download experiment[MsBrainAgingSpatialDonor_6_2] in dataset[Allen2022Molecular_aging]\n"
     ]
    },
    {
     "name": "stderr",
     "output_type": "stream",
     "text": [
      "100%|██████████| 45.6M/45.6M [01:27<00:00, 549kB/s] \n"
     ]
    },
    {
     "name": "stdout",
     "output_type": "stream",
     "text": [
      "load experiment[MsBrainAgingSpatialDonor_6_2] in dataset[Allen2022Molecular_aging]\n",
      "download experiment[MsBrainAgingSpatialDonor_7_0] in dataset[Allen2022Molecular_aging]\n"
     ]
    },
    {
     "name": "stderr",
     "output_type": "stream",
     "text": [
      "100%|██████████| 59.4M/59.4M [03:12<00:00, 324kB/s]   \n"
     ]
    },
    {
     "name": "stdout",
     "output_type": "stream",
     "text": [
      "load experiment[MsBrainAgingSpatialDonor_7_0] in dataset[Allen2022Molecular_aging]\n",
      "download experiment[MsBrainAgingSpatialDonor_7_1] in dataset[Allen2022Molecular_aging]\n"
     ]
    },
    {
     "name": "stderr",
     "output_type": "stream",
     "text": [
      "100%|██████████| 58.4M/58.4M [01:03<00:00, 971kB/s] \n"
     ]
    },
    {
     "name": "stdout",
     "output_type": "stream",
     "text": [
      "load experiment[MsBrainAgingSpatialDonor_7_1] in dataset[Allen2022Molecular_aging]\n",
      "download experiment[MsBrainAgingSpatialDonor_7_2] in dataset[Allen2022Molecular_aging]\n"
     ]
    },
    {
     "name": "stderr",
     "output_type": "stream",
     "text": [
      "100%|██████████| 62.7M/62.7M [03:12<00:00, 342kB/s] \n"
     ]
    },
    {
     "name": "stdout",
     "output_type": "stream",
     "text": [
      "load experiment[MsBrainAgingSpatialDonor_7_2] in dataset[Allen2022Molecular_aging]\n",
      "download experiment[MsBrainAgingSpatialDonor_8_0] in dataset[Allen2022Molecular_aging]\n"
     ]
    },
    {
     "name": "stderr",
     "output_type": "stream",
     "text": [
      "100%|██████████| 77.4M/77.4M [03:24<00:00, 397kB/s] \n"
     ]
    },
    {
     "name": "stdout",
     "output_type": "stream",
     "text": [
      "load experiment[MsBrainAgingSpatialDonor_8_0] in dataset[Allen2022Molecular_aging]\n",
      "download experiment[MsBrainAgingSpatialDonor_8_1] in dataset[Allen2022Molecular_aging]\n"
     ]
    },
    {
     "name": "stderr",
     "output_type": "stream",
     "text": [
      "100%|██████████| 66.8M/66.8M [02:05<00:00, 557kB/s] \n"
     ]
    },
    {
     "name": "stdout",
     "output_type": "stream",
     "text": [
      "load experiment[MsBrainAgingSpatialDonor_8_1] in dataset[Allen2022Molecular_aging]\n",
      "download experiment[MsBrainAgingSpatialDonor_8_2] in dataset[Allen2022Molecular_aging]\n"
     ]
    },
    {
     "name": "stderr",
     "output_type": "stream",
     "text": [
      "100%|██████████| 66.1M/66.1M [01:29<00:00, 771kB/s] \n"
     ]
    },
    {
     "name": "stdout",
     "output_type": "stream",
     "text": [
      "load experiment[MsBrainAgingSpatialDonor_8_2] in dataset[Allen2022Molecular_aging]\n",
      "download experiment[MsBrainAgingSpatialDonor_9_0] in dataset[Allen2022Molecular_aging]\n"
     ]
    },
    {
     "name": "stderr",
     "output_type": "stream",
     "text": [
      "100%|██████████| 61.4M/61.4M [02:12<00:00, 488kB/s]   \n"
     ]
    },
    {
     "name": "stdout",
     "output_type": "stream",
     "text": [
      "load experiment[MsBrainAgingSpatialDonor_9_0] in dataset[Allen2022Molecular_aging]\n",
      "download experiment[MsBrainAgingSpatialDonor_9_1] in dataset[Allen2022Molecular_aging]\n"
     ]
    },
    {
     "name": "stderr",
     "output_type": "stream",
     "text": [
      "100%|██████████| 68.2M/68.2M [01:35<00:00, 752kB/s] \n"
     ]
    },
    {
     "name": "stdout",
     "output_type": "stream",
     "text": [
      "load experiment[MsBrainAgingSpatialDonor_9_1] in dataset[Allen2022Molecular_aging]\n",
      "download experiment[MsBrainAgingSpatialDonor_9_2] in dataset[Allen2022Molecular_aging]\n"
     ]
    },
    {
     "name": "stderr",
     "output_type": "stream",
     "text": [
      "100%|██████████| 56.5M/56.5M [02:33<00:00, 386kB/s] \n"
     ]
    },
    {
     "name": "stdout",
     "output_type": "stream",
     "text": [
      "load experiment[MsBrainAgingSpatialDonor_9_2] in dataset[Allen2022Molecular_aging]\n"
     ]
    }
   ],
   "source": [
    "sodb = pysodb.SODB()\n",
    "adata_dict = sodb.load_dataset('Allen2022Molecular_aging')"
   ]
  },
  {
   "cell_type": "code",
   "execution_count": 3,
   "id": "ea383e62",
   "metadata": {},
   "outputs": [
    {
     "name": "stderr",
     "output_type": "stream",
     "text": [
      "/opt/anaconda3/envs/mender/lib/python3.9/site-packages/anndata/_core/anndata.py:1763: FutureWarning: The AnnData.concatenate method is deprecated in favour of the anndata.concat function. Please use anndata.concat instead.\n",
      "\n",
      "See the tutorial for concat at: https://anndata.readthedocs.io/en/latest/concatenation.html\n",
      "  warnings.warn(\n",
      "/opt/anaconda3/envs/mender/lib/python3.9/site-packages/anndata/_core/merge.py:1015: FutureWarning: The default value of 'ignore' for the `na_action` parameter in pandas.Categorical.map is deprecated and will be changed to 'None' in a future version. Please set na_action to the desired value to avoid seeing this warning\n",
      "  concat_indices = concat_indices.str.cat(label_col.map(str), sep=index_unique)\n",
      "/opt/anaconda3/envs/mender/lib/python3.9/site-packages/anndata/_core/merge.py:1015: FutureWarning: The default value of 'ignore' for the `na_action` parameter in pandas.Categorical.map is deprecated and will be changed to 'None' in a future version. Please set na_action to the desired value to avoid seeing this warning\n",
      "  concat_indices = concat_indices.str.cat(label_col.map(str), sep=index_unique)\n",
      "/opt/anaconda3/envs/mender/lib/python3.9/site-packages/anndata/_core/merge.py:1015: FutureWarning: The default value of 'ignore' for the `na_action` parameter in pandas.Categorical.map is deprecated and will be changed to 'None' in a future version. Please set na_action to the desired value to avoid seeing this warning\n",
      "  concat_indices = concat_indices.str.cat(label_col.map(str), sep=index_unique)\n"
     ]
    }
   ],
   "source": [
    "# prepare input data\n",
    "\n",
    "# specify slice_id and ground truth\n",
    "adata_list = []\n",
    "for si in adata_dict.keys():\n",
    "    adata = adata_dict[si]\n",
    "    adata.obs['slice_id'] = si\n",
    "    adata_list.append(adata)\n",
    "adata_raw = adata_list[0].concatenate(adata_list[1:])\n",
    "adata_raw.obs['slice_id'] = adata_raw.obs['slice_id'].astype('category')\n",
    "adata_raw.obs['gt'] = adata_raw.obs['tissue'].astype('category')\n",
    "adata_raw.obs['ct'] = adata_raw.obs['clust_annot'].astype('category')"
   ]
  },
  {
   "cell_type": "markdown",
   "id": "2dbf5332",
   "metadata": {},
   "source": []
  },
  {
   "cell_type": "code",
   "execution_count": 4,
   "id": "a722ff87",
   "metadata": {},
   "outputs": [],
   "source": [
    "batch_obs = 'slice_id'\n",
    "gt_obs = 'gt'"
   ]
  },
  {
   "cell_type": "code",
   "execution_count": null,
   "id": "f494ac02",
   "metadata": {},
   "outputs": [
    {
     "ename": "AttributeError",
     "evalue": "module 'mender' has no attribute 'MENDER'",
     "output_type": "error",
     "traceback": [
      "\u001b[0;31m---------------------------------------------------------------------------\u001b[0m",
      "\u001b[0;31mAttributeError\u001b[0m                            Traceback (most recent call last)",
      "Cell \u001b[0;32mIn[5], line 19\u001b[0m\n\u001b[1;32m     15\u001b[0m adata \u001b[38;5;241m=\u001b[39m adata_raw\u001b[38;5;241m.\u001b[39mcopy()\n\u001b[1;32m     18\u001b[0m \u001b[38;5;66;03m# main body of MENDER\u001b[39;00m\n\u001b[0;32m---> 19\u001b[0m msm \u001b[38;5;241m=\u001b[39m \u001b[43mmender\u001b[49m\u001b[38;5;241;43m.\u001b[39;49m\u001b[43mMENDER\u001b[49m(\n\u001b[1;32m     20\u001b[0m     adata,\n\u001b[1;32m     21\u001b[0m     batch_obs \u001b[38;5;241m=\u001b[39m batch_obs,\n\u001b[1;32m     22\u001b[0m     \u001b[38;5;66;03m# determine which cell state to use\u001b[39;00m\n\u001b[1;32m     23\u001b[0m     \u001b[38;5;66;03m# we use the cell state got by Leiden\u001b[39;00m\n\u001b[1;32m     24\u001b[0m     ct_obs\u001b[38;5;241m=\u001b[39m\u001b[38;5;124m'\u001b[39m\u001b[38;5;124mct\u001b[39m\u001b[38;5;124m'\u001b[39m,\n\u001b[1;32m     25\u001b[0m     random_seed\u001b[38;5;241m=\u001b[39m\u001b[38;5;241m0\u001b[39m\n\u001b[1;32m     26\u001b[0m )\n\u001b[1;32m     29\u001b[0m \u001b[38;5;66;03m# set the MENDER parameters\u001b[39;00m\n\u001b[1;32m     32\u001b[0m msm\u001b[38;5;241m.\u001b[39mprepare()\n",
      "\u001b[0;31mAttributeError\u001b[0m: module 'mender' has no attribute 'MENDER'"
     ]
    }
   ],
   "source": [
    "# run MENDER\n",
    "\n",
    "import time\n",
    "time_st = time.time()\n",
    "# input parameters of MENDER\n",
    "scale = 6\n",
    "radius = 15\n",
    "\n",
    "# estimate number of domains\n",
    "n_cls = np.unique(adata_raw.obs[gt_obs]).shape[0]\n",
    "\n",
    "\n",
    "\n",
    "\n",
    "adata = adata_raw.copy()\n",
    "\n",
    "\n",
    "# main body of MENDER\n",
    "msm = mender.MENDER(\n",
    "    adata,\n",
    "    batch_obs = batch_obs,\n",
    "    # determine which cell state to use\n",
    "    # we use the cell state got by Leiden\n",
    "    ct_obs='ct',\n",
    "    random_seed=0\n",
    ")\n",
    "\n",
    "\n",
    "# set the MENDER parameters\n",
    "\n",
    "\n",
    "msm.prepare()\n",
    "msm.set_MENDER_para(\n",
    "    # default of n_scales is 6\n",
    "    n_scales=scale,\n",
    "\n",
    "    # for single cell data, nn_mode is set to 'radius'\n",
    "    nn_mode='radius',\n",
    "\n",
    "    # default of n_scales is 15 um (see the manuscript for the analysis).\n",
    "    # MENDER also provide a function 'estimate_radius' for estimating the radius\n",
    "    nn_para=radius,\n",
    "\n",
    ")\n",
    "# construct the context representation\n",
    "msm.run_representation_mp(\n",
    "    200\n",
    "    # the number of processings\n",
    ")\n",
    "\n",
    "# set the spatial clustering parameter\n",
    "# positive values for the expected number of domains\n",
    "# negative values for the clustering resolution\n",
    "# msm.run_clustering_normal(n_cls)\n",
    "\n",
    "# using this res, the output is 8 domains\n",
    "msm.run_clustering_normal(-0.)\n",
    "\n",
    "\n",
    "time_cost = time.time()-time_st"
   ]
  },
  {
   "cell_type": "code",
   "execution_count": null,
   "id": "8ffc250b",
   "metadata": {},
   "outputs": [],
   "source": []
  }
 ],
 "metadata": {
  "kernelspec": {
   "display_name": "mender",
   "language": "python",
   "name": "python3"
  },
  "language_info": {
   "codemirror_mode": {
    "name": "ipython",
    "version": 3
   },
   "file_extension": ".py",
   "mimetype": "text/x-python",
   "name": "python",
   "nbconvert_exporter": "python",
   "pygments_lexer": "ipython3",
   "version": "3.9.21"
  }
 },
 "nbformat": 4,
 "nbformat_minor": 5
}
