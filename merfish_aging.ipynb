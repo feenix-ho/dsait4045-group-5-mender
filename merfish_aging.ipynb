{
 "cells": [
  {
   "cell_type": "code",
   "execution_count": 1,
   "id": "f10540e3",
   "metadata": {},
   "outputs": [],
   "source": [
    "import matplotlib.pyplot as plt\n",
    "import MENDER\n",
    "import numpy as np\n",
    "import pandas as pd\n",
    "import scanpy as sc\n",
    "from sklearn.metrics import *\n",
    "\n",
    "import pysodb"
   ]
  },
  {
   "cell_type": "code",
   "execution_count": 2,
   "id": "61a0e2b8",
   "metadata": {},
   "outputs": [
    {
     "name": "stdout",
     "output_type": "stream",
     "text": [
      "download experiment[MsBrainAgingSpatialDonor_10_0] in dataset[Allen2022Molecular_aging]\n"
     ]
    },
    {
     "name": "stderr",
     "output_type": "stream",
     "text": [
      "  3%|▎         | 1.50M/53.3M [00:06<03:48, 237kB/s] \n"
     ]
    },
    {
     "ename": "KeyboardInterrupt",
     "evalue": "",
     "output_type": "error",
     "traceback": [
      "\u001b[0;31m---------------------------------------------------------------------------\u001b[0m",
      "\u001b[0;31mKeyboardInterrupt\u001b[0m                         Traceback (most recent call last)",
      "Cell \u001b[0;32mIn[2], line 2\u001b[0m\n\u001b[1;32m      1\u001b[0m sodb \u001b[38;5;241m=\u001b[39m pysodb\u001b[38;5;241m.\u001b[39mSODB()\n\u001b[0;32m----> 2\u001b[0m adata_dict \u001b[38;5;241m=\u001b[39m \u001b[43msodb\u001b[49m\u001b[38;5;241;43m.\u001b[39;49m\u001b[43mload_dataset\u001b[49m\u001b[43m(\u001b[49m\u001b[38;5;124;43m'\u001b[39;49m\u001b[38;5;124;43mAllen2022Molecular_aging\u001b[39;49m\u001b[38;5;124;43m'\u001b[39;49m\u001b[43m)\u001b[49m\n",
      "File \u001b[0;32m/opt/anaconda3/envs/mender/lib/python3.9/site-packages/pysodb/SODB.py:142\u001b[0m, in \u001b[0;36mSODB.load_dataset\u001b[0;34m(self, dataset_name)\u001b[0m\n\u001b[1;32m    140\u001b[0m     \u001b[38;5;28;01mraise\u001b[39;00m \u001b[38;5;167;01mException\u001b[39;00m(\u001b[38;5;124m\"\u001b[39m\u001b[38;5;124mdataset[\u001b[39m\u001b[38;5;132;01m{}\u001b[39;00m\u001b[38;5;124m] does not exist. You could get available datasets by calling the function list_dataset.\u001b[39m\u001b[38;5;124m\"\u001b[39m\u001b[38;5;241m.\u001b[39mformat(dataset_name))\n\u001b[1;32m    141\u001b[0m experiment_name_list \u001b[38;5;241m=\u001b[39m \u001b[38;5;28mself\u001b[39m\u001b[38;5;241m.\u001b[39mdata[\u001b[38;5;28mself\u001b[39m\u001b[38;5;241m.\u001b[39mdata\u001b[38;5;241m.\u001b[39mdataset_name \u001b[38;5;241m==\u001b[39m dataset_name]\u001b[38;5;241m.\u001b[39mloc[:, \u001b[38;5;124m\"\u001b[39m\u001b[38;5;124mexperiment_name\u001b[39m\u001b[38;5;124m\"\u001b[39m]\u001b[38;5;241m.\u001b[39mvalues\u001b[38;5;241m.\u001b[39mtolist()\n\u001b[0;32m--> 142\u001b[0m \u001b[38;5;28;01mreturn\u001b[39;00m {en : \u001b[38;5;28mself\u001b[39m\u001b[38;5;241m.\u001b[39mload_experiment(dataset_name, en) \u001b[38;5;28;01mfor\u001b[39;00m en \u001b[38;5;129;01min\u001b[39;00m experiment_name_list}\n",
      "File \u001b[0;32m/opt/anaconda3/envs/mender/lib/python3.9/site-packages/pysodb/SODB.py:142\u001b[0m, in \u001b[0;36m<dictcomp>\u001b[0;34m(.0)\u001b[0m\n\u001b[1;32m    140\u001b[0m     \u001b[38;5;28;01mraise\u001b[39;00m \u001b[38;5;167;01mException\u001b[39;00m(\u001b[38;5;124m\"\u001b[39m\u001b[38;5;124mdataset[\u001b[39m\u001b[38;5;132;01m{}\u001b[39;00m\u001b[38;5;124m] does not exist. You could get available datasets by calling the function list_dataset.\u001b[39m\u001b[38;5;124m\"\u001b[39m\u001b[38;5;241m.\u001b[39mformat(dataset_name))\n\u001b[1;32m    141\u001b[0m experiment_name_list \u001b[38;5;241m=\u001b[39m \u001b[38;5;28mself\u001b[39m\u001b[38;5;241m.\u001b[39mdata[\u001b[38;5;28mself\u001b[39m\u001b[38;5;241m.\u001b[39mdata\u001b[38;5;241m.\u001b[39mdataset_name \u001b[38;5;241m==\u001b[39m dataset_name]\u001b[38;5;241m.\u001b[39mloc[:, \u001b[38;5;124m\"\u001b[39m\u001b[38;5;124mexperiment_name\u001b[39m\u001b[38;5;124m\"\u001b[39m]\u001b[38;5;241m.\u001b[39mvalues\u001b[38;5;241m.\u001b[39mtolist()\n\u001b[0;32m--> 142\u001b[0m \u001b[38;5;28;01mreturn\u001b[39;00m {en : \u001b[38;5;28;43mself\u001b[39;49m\u001b[38;5;241;43m.\u001b[39;49m\u001b[43mload_experiment\u001b[49m\u001b[43m(\u001b[49m\u001b[43mdataset_name\u001b[49m\u001b[43m,\u001b[49m\u001b[43m \u001b[49m\u001b[43men\u001b[49m\u001b[43m)\u001b[49m \u001b[38;5;28;01mfor\u001b[39;00m en \u001b[38;5;129;01min\u001b[39;00m experiment_name_list}\n",
      "File \u001b[0;32m/opt/anaconda3/envs/mender/lib/python3.9/site-packages/pysodb/SODB.py:162\u001b[0m, in \u001b[0;36mSODB.load_experiment\u001b[0;34m(self, dataset_name, experiment_name)\u001b[0m\n\u001b[1;32m    160\u001b[0m     \u001b[38;5;66;03m# download\u001b[39;00m\n\u001b[1;32m    161\u001b[0m     \u001b[38;5;28mprint\u001b[39m(\u001b[38;5;124m\"\u001b[39m\u001b[38;5;124mdownload experiment[\u001b[39m\u001b[38;5;132;01m{}\u001b[39;00m\u001b[38;5;124m] in dataset[\u001b[39m\u001b[38;5;132;01m{}\u001b[39;00m\u001b[38;5;124m]\u001b[39m\u001b[38;5;124m\"\u001b[39m\u001b[38;5;241m.\u001b[39mformat(experiment_name, dataset_name))\n\u001b[0;32m--> 162\u001b[0m     \u001b[43mdownload_url_to_file\u001b[49m\u001b[43m(\u001b[49m\u001b[38;5;28;43mself\u001b[39;49m\u001b[38;5;241;43m.\u001b[39;49m\u001b[43mserver_address\u001b[49m\u001b[43m \u001b[49m\u001b[38;5;241;43m+\u001b[39;49m\u001b[43m \u001b[49m\u001b[38;5;124;43m\"\u001b[39;49m\u001b[38;5;124;43m/download/\u001b[39;49m\u001b[38;5;132;43;01m{}\u001b[39;49;00m\u001b[38;5;124;43m/\u001b[39;49m\u001b[38;5;132;43;01m{}\u001b[39;49;00m\u001b[38;5;124;43m\"\u001b[39;49m\u001b[38;5;241;43m.\u001b[39;49m\u001b[43mformat\u001b[49m\u001b[43m(\u001b[49m\u001b[43mdataset_name\u001b[49m\u001b[43m,\u001b[49m\u001b[43m \u001b[49m\u001b[43mexperiment_name\u001b[49m\u001b[43m)\u001b[49m\u001b[43m,\u001b[49m\u001b[43m \u001b[49m\u001b[43mtmp_storage_path\u001b[49m\u001b[43m)\u001b[49m\n\u001b[1;32m    163\u001b[0m \u001b[38;5;28;01mtry\u001b[39;00m:\n\u001b[1;32m    164\u001b[0m     \u001b[38;5;28mprint\u001b[39m(\u001b[38;5;124m\"\u001b[39m\u001b[38;5;124mload experiment[\u001b[39m\u001b[38;5;132;01m{}\u001b[39;00m\u001b[38;5;124m] in dataset[\u001b[39m\u001b[38;5;132;01m{}\u001b[39;00m\u001b[38;5;124m]\u001b[39m\u001b[38;5;124m\"\u001b[39m\u001b[38;5;241m.\u001b[39mformat(experiment_name, dataset_name))\n",
      "File \u001b[0;32m/opt/anaconda3/envs/mender/lib/python3.9/site-packages/pysodb/SODB.py:49\u001b[0m, in \u001b[0;36mdownload_url_to_file\u001b[0;34m(url, dst, hash_prefix, progress)\u001b[0m\n\u001b[1;32m     46\u001b[0m \u001b[38;5;28;01mwith\u001b[39;00m tqdm(total\u001b[38;5;241m=\u001b[39mfile_size, disable\u001b[38;5;241m=\u001b[39m\u001b[38;5;129;01mnot\u001b[39;00m progress,\n\u001b[1;32m     47\u001b[0m           unit\u001b[38;5;241m=\u001b[39m\u001b[38;5;124m'\u001b[39m\u001b[38;5;124mB\u001b[39m\u001b[38;5;124m'\u001b[39m, unit_scale\u001b[38;5;241m=\u001b[39m\u001b[38;5;28;01mTrue\u001b[39;00m, unit_divisor\u001b[38;5;241m=\u001b[39m\u001b[38;5;241m1024\u001b[39m) \u001b[38;5;28;01mas\u001b[39;00m pbar:\n\u001b[1;32m     48\u001b[0m     \u001b[38;5;28;01mwhile\u001b[39;00m \u001b[38;5;28;01mTrue\u001b[39;00m:\n\u001b[0;32m---> 49\u001b[0m         buffer \u001b[38;5;241m=\u001b[39m \u001b[43mu\u001b[49m\u001b[38;5;241;43m.\u001b[39;49m\u001b[43mread\u001b[49m\u001b[43m(\u001b[49m\u001b[38;5;241;43m8192\u001b[39;49m\u001b[43m)\u001b[49m\n\u001b[1;32m     50\u001b[0m         \u001b[38;5;28;01mif\u001b[39;00m \u001b[38;5;28mlen\u001b[39m(buffer) \u001b[38;5;241m==\u001b[39m \u001b[38;5;241m0\u001b[39m:\n\u001b[1;32m     51\u001b[0m             \u001b[38;5;28;01mbreak\u001b[39;00m\n",
      "File \u001b[0;32m/opt/anaconda3/envs/mender/lib/python3.9/http/client.py:463\u001b[0m, in \u001b[0;36mHTTPResponse.read\u001b[0;34m(self, amt)\u001b[0m\n\u001b[1;32m    460\u001b[0m \u001b[38;5;28;01mif\u001b[39;00m amt \u001b[38;5;129;01mis\u001b[39;00m \u001b[38;5;129;01mnot\u001b[39;00m \u001b[38;5;28;01mNone\u001b[39;00m:\n\u001b[1;32m    461\u001b[0m     \u001b[38;5;66;03m# Amount is given, implement using readinto\u001b[39;00m\n\u001b[1;32m    462\u001b[0m     b \u001b[38;5;241m=\u001b[39m \u001b[38;5;28mbytearray\u001b[39m(amt)\n\u001b[0;32m--> 463\u001b[0m     n \u001b[38;5;241m=\u001b[39m \u001b[38;5;28;43mself\u001b[39;49m\u001b[38;5;241;43m.\u001b[39;49m\u001b[43mreadinto\u001b[49m\u001b[43m(\u001b[49m\u001b[43mb\u001b[49m\u001b[43m)\u001b[49m\n\u001b[1;32m    464\u001b[0m     \u001b[38;5;28;01mreturn\u001b[39;00m \u001b[38;5;28mmemoryview\u001b[39m(b)[:n]\u001b[38;5;241m.\u001b[39mtobytes()\n\u001b[1;32m    465\u001b[0m \u001b[38;5;28;01melse\u001b[39;00m:\n\u001b[1;32m    466\u001b[0m     \u001b[38;5;66;03m# Amount is not given (unbounded read) so we must check self.length\u001b[39;00m\n\u001b[1;32m    467\u001b[0m     \u001b[38;5;66;03m# and self.chunked\u001b[39;00m\n",
      "File \u001b[0;32m/opt/anaconda3/envs/mender/lib/python3.9/http/client.py:507\u001b[0m, in \u001b[0;36mHTTPResponse.readinto\u001b[0;34m(self, b)\u001b[0m\n\u001b[1;32m    502\u001b[0m         b \u001b[38;5;241m=\u001b[39m \u001b[38;5;28mmemoryview\u001b[39m(b)[\u001b[38;5;241m0\u001b[39m:\u001b[38;5;28mself\u001b[39m\u001b[38;5;241m.\u001b[39mlength]\n\u001b[1;32m    504\u001b[0m \u001b[38;5;66;03m# we do not use _safe_read() here because this may be a .will_close\u001b[39;00m\n\u001b[1;32m    505\u001b[0m \u001b[38;5;66;03m# connection, and the user is reading more bytes than will be provided\u001b[39;00m\n\u001b[1;32m    506\u001b[0m \u001b[38;5;66;03m# (for example, reading in 1k chunks)\u001b[39;00m\n\u001b[0;32m--> 507\u001b[0m n \u001b[38;5;241m=\u001b[39m \u001b[38;5;28;43mself\u001b[39;49m\u001b[38;5;241;43m.\u001b[39;49m\u001b[43mfp\u001b[49m\u001b[38;5;241;43m.\u001b[39;49m\u001b[43mreadinto\u001b[49m\u001b[43m(\u001b[49m\u001b[43mb\u001b[49m\u001b[43m)\u001b[49m\n\u001b[1;32m    508\u001b[0m \u001b[38;5;28;01mif\u001b[39;00m \u001b[38;5;129;01mnot\u001b[39;00m n \u001b[38;5;129;01mand\u001b[39;00m b:\n\u001b[1;32m    509\u001b[0m     \u001b[38;5;66;03m# Ideally, we would raise IncompleteRead if the content-length\u001b[39;00m\n\u001b[1;32m    510\u001b[0m     \u001b[38;5;66;03m# wasn't satisfied, but it might break compatibility.\u001b[39;00m\n\u001b[1;32m    511\u001b[0m     \u001b[38;5;28mself\u001b[39m\u001b[38;5;241m.\u001b[39m_close_conn()\n",
      "File \u001b[0;32m/opt/anaconda3/envs/mender/lib/python3.9/socket.py:704\u001b[0m, in \u001b[0;36mSocketIO.readinto\u001b[0;34m(self, b)\u001b[0m\n\u001b[1;32m    702\u001b[0m \u001b[38;5;28;01mwhile\u001b[39;00m \u001b[38;5;28;01mTrue\u001b[39;00m:\n\u001b[1;32m    703\u001b[0m     \u001b[38;5;28;01mtry\u001b[39;00m:\n\u001b[0;32m--> 704\u001b[0m         \u001b[38;5;28;01mreturn\u001b[39;00m \u001b[38;5;28;43mself\u001b[39;49m\u001b[38;5;241;43m.\u001b[39;49m\u001b[43m_sock\u001b[49m\u001b[38;5;241;43m.\u001b[39;49m\u001b[43mrecv_into\u001b[49m\u001b[43m(\u001b[49m\u001b[43mb\u001b[49m\u001b[43m)\u001b[49m\n\u001b[1;32m    705\u001b[0m     \u001b[38;5;28;01mexcept\u001b[39;00m timeout:\n\u001b[1;32m    706\u001b[0m         \u001b[38;5;28mself\u001b[39m\u001b[38;5;241m.\u001b[39m_timeout_occurred \u001b[38;5;241m=\u001b[39m \u001b[38;5;28;01mTrue\u001b[39;00m\n",
      "File \u001b[0;32m/opt/anaconda3/envs/mender/lib/python3.9/ssl.py:1242\u001b[0m, in \u001b[0;36mSSLSocket.recv_into\u001b[0;34m(self, buffer, nbytes, flags)\u001b[0m\n\u001b[1;32m   1238\u001b[0m     \u001b[38;5;28;01mif\u001b[39;00m flags \u001b[38;5;241m!=\u001b[39m \u001b[38;5;241m0\u001b[39m:\n\u001b[1;32m   1239\u001b[0m         \u001b[38;5;28;01mraise\u001b[39;00m \u001b[38;5;167;01mValueError\u001b[39;00m(\n\u001b[1;32m   1240\u001b[0m           \u001b[38;5;124m\"\u001b[39m\u001b[38;5;124mnon-zero flags not allowed in calls to recv_into() on \u001b[39m\u001b[38;5;132;01m%s\u001b[39;00m\u001b[38;5;124m\"\u001b[39m \u001b[38;5;241m%\u001b[39m\n\u001b[1;32m   1241\u001b[0m           \u001b[38;5;28mself\u001b[39m\u001b[38;5;241m.\u001b[39m\u001b[38;5;18m__class__\u001b[39m)\n\u001b[0;32m-> 1242\u001b[0m     \u001b[38;5;28;01mreturn\u001b[39;00m \u001b[38;5;28;43mself\u001b[39;49m\u001b[38;5;241;43m.\u001b[39;49m\u001b[43mread\u001b[49m\u001b[43m(\u001b[49m\u001b[43mnbytes\u001b[49m\u001b[43m,\u001b[49m\u001b[43m \u001b[49m\u001b[43mbuffer\u001b[49m\u001b[43m)\u001b[49m\n\u001b[1;32m   1243\u001b[0m \u001b[38;5;28;01melse\u001b[39;00m:\n\u001b[1;32m   1244\u001b[0m     \u001b[38;5;28;01mreturn\u001b[39;00m \u001b[38;5;28msuper\u001b[39m()\u001b[38;5;241m.\u001b[39mrecv_into(buffer, nbytes, flags)\n",
      "File \u001b[0;32m/opt/anaconda3/envs/mender/lib/python3.9/ssl.py:1100\u001b[0m, in \u001b[0;36mSSLSocket.read\u001b[0;34m(self, len, buffer)\u001b[0m\n\u001b[1;32m   1098\u001b[0m \u001b[38;5;28;01mtry\u001b[39;00m:\n\u001b[1;32m   1099\u001b[0m     \u001b[38;5;28;01mif\u001b[39;00m buffer \u001b[38;5;129;01mis\u001b[39;00m \u001b[38;5;129;01mnot\u001b[39;00m \u001b[38;5;28;01mNone\u001b[39;00m:\n\u001b[0;32m-> 1100\u001b[0m         \u001b[38;5;28;01mreturn\u001b[39;00m \u001b[38;5;28;43mself\u001b[39;49m\u001b[38;5;241;43m.\u001b[39;49m\u001b[43m_sslobj\u001b[49m\u001b[38;5;241;43m.\u001b[39;49m\u001b[43mread\u001b[49m\u001b[43m(\u001b[49m\u001b[38;5;28;43mlen\u001b[39;49m\u001b[43m,\u001b[49m\u001b[43m \u001b[49m\u001b[43mbuffer\u001b[49m\u001b[43m)\u001b[49m\n\u001b[1;32m   1101\u001b[0m     \u001b[38;5;28;01melse\u001b[39;00m:\n\u001b[1;32m   1102\u001b[0m         \u001b[38;5;28;01mreturn\u001b[39;00m \u001b[38;5;28mself\u001b[39m\u001b[38;5;241m.\u001b[39m_sslobj\u001b[38;5;241m.\u001b[39mread(\u001b[38;5;28mlen\u001b[39m)\n",
      "\u001b[0;31mKeyboardInterrupt\u001b[0m: "
     ]
    }
   ],
   "source": [
    "sodb = pysodb.SODB()\n",
    "adata_dict = sodb.load_dataset('Allen2022Molecular_aging')"
   ]
  },
  {
   "cell_type": "code",
   "execution_count": 3,
   "id": "ea383e62",
   "metadata": {},
   "outputs": [
    {
     "name": "stderr",
     "output_type": "stream",
     "text": [
      "/opt/anaconda3/envs/mender/lib/python3.9/site-packages/anndata/_core/anndata.py:1763: FutureWarning: The AnnData.concatenate method is deprecated in favour of the anndata.concat function. Please use anndata.concat instead.\n",
      "\n",
      "See the tutorial for concat at: https://anndata.readthedocs.io/en/latest/concatenation.html\n",
      "  warnings.warn(\n",
      "/opt/anaconda3/envs/mender/lib/python3.9/site-packages/anndata/_core/merge.py:1015: FutureWarning: The default value of 'ignore' for the `na_action` parameter in pandas.Categorical.map is deprecated and will be changed to 'None' in a future version. Please set na_action to the desired value to avoid seeing this warning\n",
      "  concat_indices = concat_indices.str.cat(label_col.map(str), sep=index_unique)\n",
      "/opt/anaconda3/envs/mender/lib/python3.9/site-packages/anndata/_core/merge.py:1015: FutureWarning: The default value of 'ignore' for the `na_action` parameter in pandas.Categorical.map is deprecated and will be changed to 'None' in a future version. Please set na_action to the desired value to avoid seeing this warning\n",
      "  concat_indices = concat_indices.str.cat(label_col.map(str), sep=index_unique)\n",
      "/opt/anaconda3/envs/mender/lib/python3.9/site-packages/anndata/_core/merge.py:1015: FutureWarning: The default value of 'ignore' for the `na_action` parameter in pandas.Categorical.map is deprecated and will be changed to 'None' in a future version. Please set na_action to the desired value to avoid seeing this warning\n",
      "  concat_indices = concat_indices.str.cat(label_col.map(str), sep=index_unique)\n"
     ]
    }
   ],
   "source": [
    "# prepare input data\n",
    "\n",
    "# specify slice_id and ground truth\n",
    "adata_list = []\n",
    "for si in adata_dict.keys():\n",
    "    adata = adata_dict[si]\n",
    "    adata.obs['slice_id'] = si\n",
    "    adata_list.append(adata)\n",
    "adata_raw = adata_list[0].concatenate(adata_list[1:])\n",
    "adata_raw.obs['slice_id'] = adata_raw.obs['slice_id'].astype('category')\n",
    "adata_raw.obs['gt'] = adata_raw.obs['tissue'].astype('category')\n",
    "adata_raw.obs['ct'] = adata_raw.obs['clust_annot'].astype('category')"
   ]
  },
  {
   "cell_type": "markdown",
   "id": "2dbf5332",
   "metadata": {},
   "source": []
  },
  {
   "cell_type": "code",
   "execution_count": 4,
   "id": "a722ff87",
   "metadata": {},
   "outputs": [],
   "source": [
    "batch_obs = 'slice_id'\n",
    "gt_obs = 'gt'"
   ]
  },
  {
   "cell_type": "code",
   "execution_count": null,
   "id": "f494ac02",
   "metadata": {},
   "outputs": [
    {
     "name": "stdout",
     "output_type": "stream",
     "text": [
      "default number of process is 200\n",
      "total batch: 31, running batch MsBrainAgingSpatialDonor_10_0\n",
      "scale 0, median #cells per radius (r=15): 2.0\n",
      "total batch: 31, running batch MsBrainAgingSpatialDonor_10_1\n",
      "scale 1, median #cells per radius (r=15): 3.0\n",
      "scale 0, median #cells per radius (r=15): 1.0\n",
      "scale 2, median #cells per radius (r=15): 5.0\n",
      "scale 1, median #cells per radius (r=15): 3.0\n",
      "scale 3, median #cells per radius (r=15): 7.0\n",
      "total batch: 31, running batch MsBrainAgingSpatialDonor_10_2\n",
      "scale 2, median #cells per radius (r=15): 4.0\n",
      "scale 0, median #cells per radius (r=15): 2.0\n",
      "scale 4, median #cells per radius (r=15): 8.0\n",
      "scale 3, median #cells per radius (r=15): 6.0\n",
      "scale 1, median #cells per radius (r=15): 3.0\n",
      "scale 5, median #cells per radius (r=15): 10.0\n",
      "scale 4, median #cells per radius (r=15): 8.0\n",
      "scale 2, median #cells per radius (r=15): 5.0\n",
      "total batch: 31, running batch MsBrainAgingSpatialDonor_11_0\n",
      "scale 3, median #cells per radius (r=15): 7.0\n",
      "scale 5, median #cells per radius (r=15): 9.0\n",
      "scale 0, median #cells per radius (r=15): 1.0\n",
      "scale 4, median #cells per radius (r=15): 8.0\n",
      "scale 1, median #cells per radius (r=15): 2.0\n",
      "scale 2, median #cells per radius (r=15): 4.0\n",
      "scale 5, median #cells per radius (r=15): 10.0\n",
      "scale 3, median #cells per radius (r=15): 6.0\n",
      "total batch: 31, running batch MsBrainAgingSpatialDonor_11_1\n",
      "scale 4, median #cells per radius (r=15): 7.0\n",
      "scale 0, median #cells per radius (r=15): 1.0\n",
      "scale 5, median #cells per radius (r=15): 9.0\n",
      "scale 1, median #cells per radius (r=15): 2.0\n",
      "total batch: 31, running batch MsBrainAgingSpatialDonor_11_2\n",
      "scale 2, median #cells per radius (r=15): 4.0\n",
      "scale 0, median #cells per radius (r=15): 1.0\n",
      "scale 1, median #cells per radius (r=15): 2.0\n",
      "scale 3, median #cells per radius (r=15): 6.0\n",
      "scale 2, median #cells per radius (r=15): 4.0\n",
      "scale 3, median #cells per radius (r=15): 6.0\n",
      "total batch: 31, running batch MsBrainAgingSpatialDonor_12_0\n",
      "scale 4, median #cells per radius (r=15): 7.0\n",
      "scale 4, median #cells per radius (r=15): 7.0\n",
      "scale 5, median #cells per radius (r=15): 9.0\n",
      "scale 0, median #cells per radius (r=15): 2.0\n",
      "scale 5, median #cells per radius (r=15): 9.0\n",
      "scale 1, median #cells per radius (r=15): 3.0\n",
      "total batch: 31, running batch MsBrainAgingSpatialDonor_12_1\n",
      "scale 0, median #cells per radius (r=15): 2.0\n",
      "scale 2, median #cells per radius (r=15): 5.0\n",
      "scale 1, median #cells per radius (r=15): 3.0\n",
      "total batch: 31, running batch MsBrainAgingSpatialDonor_1_0\n",
      "scale 3, median #cells per radius (r=15): 7.0\n",
      "scale 2, median #cells per radius (r=15): 5.0\n",
      "scale 0, median #cells per radius (r=15): 1.0\n",
      "scale 4, median #cells per radius (r=15): 9.0\n",
      "scale 3, median #cells per radius (r=15): 7.0\n",
      "total batch: 31, running batch MsBrainAgingSpatialDonor_2_0\n",
      "scale 1, median #cells per radius (r=15): 3.0\n",
      "scale 0, median #cells per radius (r=15): 2.0\n",
      "scale 5, median #cells per radius (r=15): 11.0\n",
      "scale 4, median #cells per radius (r=15): 9.0\n",
      "scale 2, median #cells per radius (r=15): 5.0\n",
      "scale 1, median #cells per radius (r=15): 3.0\n",
      "total batch: 31, running batch MsBrainAgingSpatialDonor_2_1\n",
      "scale 5, median #cells per radius (r=15): 11.0\n",
      "scale 2, median #cells per radius (r=15): 5.0\n",
      "scale 3, median #cells per radius (r=15): 7.0\n",
      "scale 0, median #cells per radius (r=15): 2.0\n",
      "total batch: 31, running batch MsBrainAgingSpatialDonor_3_0\n",
      "scale 3, median #cells per radius (r=15): 7.0\n",
      "scale 1, median #cells per radius (r=15): 3.0\n",
      "scale 4, median #cells per radius (r=15): 9.0\n",
      "scale 0, median #cells per radius (r=15): 2.0\n",
      "scale 4, median #cells per radius (r=15): 9.0\n",
      "total batch: 31, running batch MsBrainAgingSpatialDonor_3_1\n",
      "scale 1, median #cells per radius (r=15): 3.0\n",
      "scale 2, median #cells per radius (r=15): 5.0\n",
      "scale 5, median #cells per radius (r=15): 12.0\n",
      "scale 5, median #cells per radius (r=15): 11.0\n",
      "scale 0, median #cells per radius (r=15): 2.0\n",
      "scale 2, median #cells per radius (r=15): 5.0\n",
      "scale 1, median #cells per radius (r=15): 3.0\n",
      "total batch: 31, running batch MsBrainAgingSpatialDonor_4_0\n",
      "scale 3, median #cells per radius (r=15): 8.0\n",
      "scale 0, median #cells per radius (r=15): 1.0\n",
      "scale 3, median #cells per radius (r=15): 7.0\n",
      "scale 2, median #cells per radius (r=15): 5.0\n",
      "scale 1, median #cells per radius (r=15): 3.0\n",
      "scale 2, median #cells per radius (r=15): 5.0\n",
      "scale 3, median #cells per radius (r=15): 7.0\n",
      "total batch: 31, running batch MsBrainAgingSpatialDonor_4_1\n",
      "scale 4, median #cells per radius (r=15): 10.0\n",
      "scale 4, median #cells per radius (r=15): 9.0\n",
      "scale 3, median #cells per radius (r=15): 7.0\n",
      "scale 0, median #cells per radius (r=15): 2.0\n",
      "scale 4, median #cells per radius (r=15): 9.0\n",
      "scale 4, median #cells per radius (r=15): 9.0\n",
      "scale 1, median #cells per radius (r=15): 3.0\n",
      "total batch: 31, running batch MsBrainAgingSpatialDonor_4_2\n",
      "scale 5, median #cells per radius (r=15): 12.0\n",
      "scale 2, median #cells per radius (r=15): 5.0\n",
      "scale 5, median #cells per radius (r=15): 11.0\n",
      "scale 5, median #cells per radius (r=15): 12.0\n",
      "scale 5, median #cells per radius (r=15): 10.0\n",
      "scale 0, median #cells per radius (r=15): 2.0\n",
      "scale 3, median #cells per radius (r=15): 7.0\n",
      "scale 1, median #cells per radius (r=15): 3.0\n",
      "scale 4, median #cells per radius (r=15): 9.0\n",
      "scale 2, median #cells per radius (r=15): 5.0\n",
      "scale 3, median #cells per radius (r=15): 7.0\n",
      "total batch: 31, running batch MsBrainAgingSpatialDonor_5_0\n",
      "scale 5, median #cells per radius (r=15): 11.0\n",
      "scale 0, median #cells per radius (r=15): 2.0\n",
      "scale 4, median #cells per radius (r=15): 9.0\n",
      "scale 1, median #cells per radius (r=15): 3.0\n",
      "scale 5, median #cells per radius (r=15): 11.0\n",
      "total batch: 31, running batch MsBrainAgingSpatialDonor_5_1\n",
      "scale 2, median #cells per radius (r=15): 5.0\n",
      "scale 0, median #cells per radius (r=15): 2.0\n",
      "scale 3, median #cells per radius (r=15): 7.0\n",
      "scale 1, median #cells per radius (r=15): 3.0\n",
      "scale 2, median #cells per radius (r=15): 5.0\n",
      "scale 4, median #cells per radius (r=15): 9.0\n",
      "total batch: 31, running batch MsBrainAgingSpatialDonor_5_2\n",
      "scale 0, median #cells per radius (r=15): 2.0\n",
      "scale 3, median #cells per radius (r=15): 7.0\n",
      "scale 5, median #cells per radius (r=15): 11.0\n",
      "scale 1, median #cells per radius (r=15): 3.0\n",
      "scale 4, median #cells per radius (r=15): 9.0\n",
      "scale 2, median #cells per radius (r=15): 5.0\n",
      "scale 5, median #cells per radius (r=15): 11.0\n",
      "scale 3, median #cells per radius (r=15): 7.0\n",
      "total batch: 31, running batch MsBrainAgingSpatialDonor_6_0\n",
      "scale 0, median #cells per radius (r=15): 2.0\n",
      "scale 4, median #cells per radius (r=15): 9.0\n",
      "scale 1, median #cells per radius (r=15): 3.0\n",
      "scale 5, median #cells per radius (r=15): 11.0\n",
      "scale 2, median #cells per radius (r=15): 5.0\n",
      "total batch: 31, running batch MsBrainAgingSpatialDonor_6_1\n",
      "scale 3, median #cells per radius (r=15): 7.0\n",
      "scale 0, median #cells per radius (r=15): 2.0\n",
      "scale 1, median #cells per radius (r=15): 3.0\n",
      "scale 4, median #cells per radius (r=15): 9.0\n",
      "scale 2, median #cells per radius (r=15): 5.0\n",
      "scale 5, median #cells per radius (r=15): 11.0\n",
      "scale 3, median #cells per radius (r=15): 7.0\n",
      "total batch: 31, running batch MsBrainAgingSpatialDonor_6_2\n",
      "scale 4, median #cells per radius (r=15): 8.0\n",
      "scale 0, median #cells per radius (r=15): 2.0\n",
      "scale 5, median #cells per radius (r=15): 10.0\n",
      "scale 1, median #cells per radius (r=15): 3.0\n",
      "scale 2, median #cells per radius (r=15): 5.0\n",
      "scale 3, median #cells per radius (r=15): 7.0\n",
      "scale 4, median #cells per radius (r=15): 8.0\n",
      "scale 5, median #cells per radius (r=15): 10.0\n"
     ]
    }
   ],
   "source": [
    "# run MENDER\n",
    "\n",
    "import time\n",
    "time_st = time.time()\n",
    "# input parameters of MENDER\n",
    "scale = 6\n",
    "radius = 15\n",
    "\n",
    "# estimate number of domains\n",
    "n_cls = np.unique(adata_raw.obs[gt_obs]).shape[0]\n",
    "\n",
    "\n",
    "\n",
    "\n",
    "adata = adata_raw.copy()\n",
    "\n",
    "\n",
    "# main body of MENDER\n",
    "msm = MENDER.MENDER(\n",
    "    adata,\n",
    "    batch_obs = batch_obs,\n",
    "    # determine which cell state to use\n",
    "    # we use the cell state got by Leiden\n",
    "    ct_obs='ct',\n",
    "    random_seed=0\n",
    ")\n",
    "\n",
    "\n",
    "# set the MENDER parameters\n",
    "\n",
    "\n",
    "msm.prepare()\n",
    "msm.set_MENDER_para(\n",
    "    # default of n_scales is 6\n",
    "    n_scales=scale,\n",
    "\n",
    "    # for single cell data, nn_mode is set to 'radius'\n",
    "    nn_mode='radius',\n",
    "\n",
    "    # default of n_scales is 15 um (see the manuscript for the analysis).\n",
    "    # MENDER also provide a function 'estimate_radius' for estimating the radius\n",
    "    nn_para=radius,\n",
    "\n",
    ")\n",
    "# construct the context representation\n",
    "msm.run_representation_mp(\n",
    "    200\n",
    "    # the number of processings\n",
    ")\n",
    "\n",
    "# set the spatial clustering parameter\n",
    "# positive values for the expected number of domains\n",
    "# negative values for the clustering resolution\n",
    "# msm.run_clustering_normal(n_cls)\n",
    "\n",
    "# using this res, the output is 8 domains\n",
    "msm.run_clustering_normal(-0.)\n",
    "\n",
    "\n",
    "time_cost = time.time()-time_st"
   ]
  },
  {
   "cell_type": "code",
   "execution_count": 3,
   "id": "8ffc250b",
   "metadata": {},
   "outputs": [
    {
     "ename": "NameError",
     "evalue": "name 'msm' is not defined",
     "output_type": "error",
     "traceback": [
      "\u001b[0;31m---------------------------------------------------------------------------\u001b[0m",
      "\u001b[0;31mNameError\u001b[0m                                 Traceback (most recent call last)",
      "Cell \u001b[0;32mIn[3], line 1\u001b[0m\n\u001b[0;32m----> 1\u001b[0m \u001b[43mmsm\u001b[49m\u001b[38;5;241m.\u001b[39mrun_clustering_normal(\u001b[38;5;241m-\u001b[39m\u001b[38;5;241m0.5\u001b[39m)\n",
      "\u001b[0;31mNameError\u001b[0m: name 'msm' is not defined"
     ]
    }
   ],
   "source": [
    "msm.run_clustering_normal(-0.5)"
   ]
  },
  {
   "cell_type": "code",
   "execution_count": 4,
   "id": "0198d0cb",
   "metadata": {},
   "outputs": [
    {
     "ename": "NameError",
     "evalue": "name 'time_cost' is not defined",
     "output_type": "error",
     "traceback": [
      "\u001b[0;31m---------------------------------------------------------------------------\u001b[0m",
      "\u001b[0;31mNameError\u001b[0m                                 Traceback (most recent call last)",
      "Cell \u001b[0;32mIn[4], line 1\u001b[0m\n\u001b[0;32m----> 1\u001b[0m \u001b[38;5;28mprint\u001b[39m(\u001b[38;5;124mf\u001b[39m\u001b[38;5;124m'\u001b[39m\u001b[38;5;124mcost \u001b[39m\u001b[38;5;132;01m{\u001b[39;00mtime_cost\u001b[38;5;132;01m}\u001b[39;00m\u001b[38;5;124m s for \u001b[39m\u001b[38;5;132;01m{\u001b[39;00madata_raw\u001b[38;5;241m.\u001b[39mshape[\u001b[38;5;241m0\u001b[39m]\u001b[38;5;132;01m}\u001b[39;00m\u001b[38;5;124m cells\u001b[39m\u001b[38;5;124m'\u001b[39m)\n",
      "\u001b[0;31mNameError\u001b[0m: name 'time_cost' is not defined"
     ]
    }
   ],
   "source": [
    "print(f'cost {time_cost} s for {adata_raw.shape[0]} cells')\n"
   ]
  },
  {
   "cell_type": "code",
   "execution_count": 5,
   "id": "628a1064",
   "metadata": {},
   "outputs": [
    {
     "ename": "NameError",
     "evalue": "name 'msm' is not defined",
     "output_type": "error",
     "traceback": [
      "\u001b[0;31m---------------------------------------------------------------------------\u001b[0m",
      "\u001b[0;31mNameError\u001b[0m                                 Traceback (most recent call last)",
      "Cell \u001b[0;32mIn[5], line 4\u001b[0m\n\u001b[1;32m      1\u001b[0m \u001b[38;5;66;03m# the plot function has two parameters\u001b[39;00m\n\u001b[1;32m      2\u001b[0m \u001b[38;5;66;03m# obs: the observation to plot\u001b[39;00m\n\u001b[1;32m      3\u001b[0m \u001b[38;5;66;03m# gt_obs: the ground truth observation to compute NMI and ARI, can be set to None if not available\u001b[39;00m\n\u001b[0;32m----> 4\u001b[0m \u001b[43mmsm\u001b[49m\u001b[38;5;241m.\u001b[39moutput_cluster_all(obs\u001b[38;5;241m=\u001b[39m\u001b[38;5;124m'\u001b[39m\u001b[38;5;124mMENDER\u001b[39m\u001b[38;5;124m'\u001b[39m,obs_gt\u001b[38;5;241m=\u001b[39mgt_obs)\n\u001b[1;32m      5\u001b[0m \u001b[38;5;28mprint\u001b[39m(\u001b[38;5;124m'\u001b[39m\u001b[38;5;124mMENDER prediction\u001b[39m\u001b[38;5;124m'\u001b[39m)\n",
      "\u001b[0;31mNameError\u001b[0m: name 'msm' is not defined"
     ]
    }
   ],
   "source": [
    "# the plot function has two parameters\n",
    "# obs: the observation to plot\n",
    "# gt_obs: the ground truth observation to compute NMI and ARI, can be set to None if not available\n",
    "msm.output_cluster_all(obs='MENDER',obs_gt=gt_obs)\n",
    "print('MENDER prediction')"
   ]
  },
  {
   "cell_type": "code",
   "execution_count": null,
   "id": "23aab550",
   "metadata": {},
   "outputs": [],
   "source": [
    "# the plot function has two parameters\n",
    "# obs: the observation to plot\n",
    "# gt_obs: the ground truth observation to compute NMI and ARI, can be set to None if not available\n",
    "\n",
    "msm.output_cluster_all(obs=gt_obs,obs_gt=None)\n",
    "print('ground truth')"
   ]
  }
 ],
 "metadata": {
  "kernelspec": {
   "display_name": "mender_test",
   "language": "python",
   "name": "python3"
  },
  "language_info": {
   "codemirror_mode": {
    "name": "ipython",
    "version": 3
   },
   "file_extension": ".py",
   "mimetype": "text/x-python",
   "name": "python",
   "nbconvert_exporter": "python",
   "pygments_lexer": "ipython3",
   "version": "3.9.21"
  }
 },
 "nbformat": 4,
 "nbformat_minor": 5
}
